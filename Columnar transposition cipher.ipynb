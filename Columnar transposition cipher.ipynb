{
 "cells": [
  {
   "cell_type": "code",
   "execution_count": 1,
   "metadata": {},
   "outputs": [
    {
     "name": "stdout",
     "output_type": "stream",
     "text": [
      "Cnwvtus KuaiTaa rlodeeurethn  an Ia_mrhs baer oag ndC_a aeoat dLj lLdio_me  p  hagZLngan _\n"
     ]
    }
   ],
   "source": [
    "# encrypt = \"Cnwvtus KuaiTaa rlodeeurethn  an Ia_mrhs baer oag ndC_a aeoat dLj lLdio_me  p  hagZLngan _\"\n",
    "# TiushsrtsYT_ oe_i  _\n",
    "encrypt = input()"
   ]
  },
  {
   "cell_type": "code",
   "execution_count": 3,
   "metadata": {},
   "outputs": [
    {
     "name": "stdout",
     "output_type": "stream",
     "text": [
      "Cnwvtus KuaiTaa rlodeeurethn  an Ia_mrhs baer oag ndC_a aeoat dLj lLdio_me  p  hagZLngan _\n",
      "delhi\n",
      "Commander we have setup our base at the Khardung La Zoji La Tanglang La and Indira Col____"
     ]
    },
    {
     "data": {
      "text/plain": [
       "'\\nencrypted message = Cnwvtus KuaiTaa rlodeeurethn  an Ia_mrhs baer oag ndC_a aeoat dLj lLdio_me  p  hagZLngan _\\ndecrypted message = Commander we have setup our base at the Khardung La Zoji La Tanglang La and Indira Col____\\n'"
      ]
     },
     "execution_count": 3,
     "metadata": {},
     "output_type": "execute_result"
    }
   ],
   "source": [
    "# encrypt = \"Cnwvtus KuaiTaa rlodeeurethn  an Ia_mrhs baer oag ndC_a aeoat dLj lLdio_me  p  hagZLngan _\"\n",
    "# TiushsrtsYT_ oe_i  _\n",
    "encrypt = input()\n",
    "\n",
    "# key = \"DELHI\"\n",
    "key = input()\n",
    "\n",
    "\n",
    "# decrypt - forming it in a matrix\n",
    "rows, cols = (int(len(encrypt)/len(key)), len(key)) \n",
    "\n",
    "decrypt = [[encrypt[i] for i in range(rows*j, (rows*j)+rows)] for j in range(cols)] \n",
    "\n",
    "# sorting the key and creating a dictionary\n",
    "key_sort = sorted(key)\n",
    "decrypt_dict = dict()\n",
    "\n",
    "for i in key:\n",
    "    decrypt_dict[i] = decrypt[key_sort.index(i)]\n",
    "\n",
    "#printing out message\n",
    "for j in range(rows):\n",
    "    for i in key:\n",
    "        print(decrypt_dict[i][j], end = \"\")\n",
    "        \n",
    "\"\"\"\n",
    "encrypted message = Cnwvtus KuaiTaa rlodeeurethn  an Ia_mrhs baer oag ndC_a aeoat dLj lLdio_me  p  hagZLngan _\n",
    "decrypted message = Commander we have setup our base at the Khardung La Zoji La Tanglang La and Indira Col____\n",
    "\"\"\""
   ]
  },
  {
   "cell_type": "code",
   "execution_count": null,
   "metadata": {},
   "outputs": [],
   "source": [
    "# key = \"DELHI\"\n",
    "key = input()"
   ]
  },
  {
   "cell_type": "code",
   "execution_count": null,
   "metadata": {},
   "outputs": [],
   "source": [
    "# rows, cols = (18, 5) \n",
    "\n",
    "# decrypt = [[encrypt[i] for i in range(rows*j, (rows*j)+18)] for j in range(cols)] \n",
    "# decrypt \n",
    "rows, cols = (int(len(encrypt)/len(key)), len(key)) \n",
    "\n",
    "decrypt = [[encrypt[i] for i in range(rows*j, (rows*j)+rows)] for j in range(cols)] \n",
    "# decrypt"
   ]
  },
  {
   "cell_type": "code",
   "execution_count": null,
   "metadata": {},
   "outputs": [],
   "source": [
    "key_sort = sorted(key)\n",
    "decrypt_dict = dict()\n",
    "# k = sorted(key)\n",
    "for i in key:\n",
    "    decrypt_dict[i] = decrypt[key_sort.index(i)]\n",
    "\n",
    "# decrypt_dict"
   ]
  },
  {
   "cell_type": "code",
   "execution_count": null,
   "metadata": {},
   "outputs": [],
   "source": [
    "# for j in range(18):\n",
    "#     for i in key:\n",
    "#         print(decrypt_dict[i][j], end = \"\")\n",
    "\n",
    "for j in range(rows):\n",
    "    for i in key:\n",
    "        print(decrypt_dict[i][j], end = \"\")"
   ]
  }
 ],
 "metadata": {
  "kernelspec": {
   "display_name": "Python 3",
   "language": "python",
   "name": "python3"
  },
  "language_info": {
   "codemirror_mode": {
    "name": "ipython",
    "version": 3
   },
   "file_extension": ".py",
   "mimetype": "text/x-python",
   "name": "python",
   "nbconvert_exporter": "python",
   "pygments_lexer": "ipython3",
   "version": "3.8.3"
  }
 },
 "nbformat": 4,
 "nbformat_minor": 4
}
